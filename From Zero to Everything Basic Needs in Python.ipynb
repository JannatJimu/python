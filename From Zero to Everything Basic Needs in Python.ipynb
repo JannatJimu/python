{
  "nbformat": 4,
  "nbformat_minor": 0,
  "metadata": {
    "colab": {
      "provenance": [],
      "toc_visible": true
    },
    "kernelspec": {
      "name": "python3",
      "display_name": "Python 3"
    },
    "language_info": {
      "name": "python"
    }
  },
  "cells": [
    {
      "cell_type": "markdown",
      "source": [
        "#**From Zero to Everything Basic Needs in Python**\n",
        "\n"
      ],
      "metadata": {
        "id": "6Pks_PtRZ9mZ"
      }
    },
    {
      "cell_type": "markdown",
      "source": [
        "Prepared by: Jannatul Fardaous Jim       \n",
        "Reg No: 21201071  \n",
        "University of Asia Pacific   \n",
        "Department of Computer Science and Engineering"
      ],
      "metadata": {
        "id": "TrI-KuVxulI2"
      }
    },
    {
      "cell_type": "markdown",
      "source": [
        "#**Print() Function**\n",
        "\n",
        "\n",
        "\n",
        "\n",
        "\n"
      ],
      "metadata": {
        "id": "4EoU5gx6Z8d7"
      }
    },
    {
      "cell_type": "code",
      "source": [
        "# Simple print statements\n",
        "print(\"Hello, World!\")"
      ],
      "metadata": {
        "colab": {
          "base_uri": "https://localhost:8080/"
        },
        "id": "3KB7yKGnlWKv",
        "outputId": "d2e8b2a5-ea7c-4663-b02f-ab9454a5e2e2"
      },
      "execution_count": null,
      "outputs": [
        {
          "output_type": "stream",
          "name": "stdout",
          "text": [
            "Hello, World!\n"
          ]
        }
      ]
    },
    {
      "cell_type": "code",
      "source": [
        "# print About Myself:\n",
        "print(\"Hello ,I'm Jannatul Fardaous Jim. A passionate and dedicated Computer Science and Engineering (CSE) student embarking on a thrilling journey in the realm of technology.\"+\"\\n\"+\"With an insatiable curiosity for all things related to computing.\")"
      ],
      "metadata": {
        "colab": {
          "base_uri": "https://localhost:8080/"
        },
        "id": "84VRl8lrb1JO",
        "outputId": "8b7a9eaf-a79b-4fa3-abd3-488710bc7246"
      },
      "execution_count": null,
      "outputs": [
        {
          "output_type": "stream",
          "name": "stdout",
          "text": [
            "Hello ,I'm Jannatul Fardaous Jim. A passionate and dedicated Computer Science and Engineering (CSE) student embarking on a thrilling journey in the realm of technology.\n",
            "With an insatiable curiosity for all things related to computing.\n"
          ]
        }
      ]
    },
    {
      "cell_type": "code",
      "source": [
        "# Printing Multiple Value:\n",
        "Name='Jannatul Fardaous Jim'\n",
        "Age=23\n",
        "University='University of Asia Pacific'\n",
        "Semester='3rd Year 1st Semester'\n",
        "Skills='Programming'\n",
        "Programming_Language='C++'\n",
        "\n",
        "print(\"Hi,I'm \"+Name +\".I'm \"+str(Age)+\" years old. Currently navigating the labyrinth of technology at \"+University +\" in \"+Semester+\".\"+\"\\nI find joy in unraveling \"+Skills+\", the elegance of coding languages and complexities of algorithme. Lastly my favorite programming language is \"+Programming_Language)"
      ],
      "metadata": {
        "colab": {
          "base_uri": "https://localhost:8080/"
        },
        "id": "Wxpg9y2PdRS-",
        "outputId": "69acc2a4-3e1a-459d-8714-25a8c4ae6817"
      },
      "execution_count": null,
      "outputs": [
        {
          "output_type": "stream",
          "name": "stdout",
          "text": [
            "Hi,I'm Jannatul Fardaous Jim.I'm 23 years old. Currently navigating the labyrinth of technology at University of Asia Pacific in 3rd Year 1st Semester.\n",
            "I find joy in unraveling Programming, the elegance of coding languages and complexities of algorithme. Lastly my favorite programming language is C++\n"
          ]
        }
      ]
    },
    {
      "cell_type": "code",
      "source": [
        "# Printing numbers and calculations\n",
        "num1 = 10\n",
        "num2 = 5\n",
        "sum_result = num1 + num2\n",
        "print(f\"The sum of {num1} and {num2} is: {sum_result}\")"
      ],
      "metadata": {
        "colab": {
          "base_uri": "https://localhost:8080/"
        },
        "id": "2gBopfnXlgNB",
        "outputId": "cf708f31-5653-4574-bc87-0842b55891d0"
      },
      "execution_count": null,
      "outputs": [
        {
          "output_type": "stream",
          "name": "stdout",
          "text": [
            "The sum of 10 and 5 is: 15\n"
          ]
        }
      ]
    },
    {
      "cell_type": "code",
      "source": [
        "# Printing multiple lines\n",
        "print(\"In python you can use the escape sequence '\\\\n' to create new lines.\\nJust like this way!\")"
      ],
      "metadata": {
        "colab": {
          "base_uri": "https://localhost:8080/"
        },
        "id": "thPFObRMnLpr",
        "outputId": "6c754fd1-ba62-4e87-ac93-a5bbd01fffec"
      },
      "execution_count": null,
      "outputs": [
        {
          "output_type": "stream",
          "name": "stdout",
          "text": [
            "In python you can use the escape sequence '\\n' to create new lines.\n",
            "Just like this way!\n"
          ]
        }
      ]
    },
    {
      "cell_type": "code",
      "source": [],
      "metadata": {
        "id": "l_IS56rfl4Aa"
      },
      "execution_count": null,
      "outputs": []
    },
    {
      "cell_type": "markdown",
      "source": [
        "#**Variable Assignment**"
      ],
      "metadata": {
        "id": "a5w78pMtbhge"
      }
    },
    {
      "cell_type": "code",
      "source": [
        "# Variable assignment\n",
        "Name = \"Jim\" # string\n",
        "Age = 23 # int\n",
        "Cgpa = 3.78 # float\n",
        "type_check = True # bool\n",
        "\n",
        "print(Name)\n",
        "print( Age)\n",
        "print(Cgpa)\n",
        "print(type_check)\n",
        "print(type(Name))\n",
        "print(type(Age))\n",
        "print(type(Cgpa))\n",
        "print(type(type_check))"
      ],
      "metadata": {
        "colab": {
          "base_uri": "https://localhost:8080/"
        },
        "id": "Cdur_lRcqsoJ",
        "outputId": "06902aa2-1658-4fab-ecc9-9acf91115053"
      },
      "execution_count": null,
      "outputs": [
        {
          "output_type": "stream",
          "name": "stdout",
          "text": [
            "Jim\n",
            "23\n",
            "3.78\n",
            "True\n",
            "<class 'str'>\n",
            "<class 'int'>\n",
            "<class 'float'>\n",
            "<class 'bool'>\n"
          ]
        }
      ]
    },
    {
      "cell_type": "code",
      "source": [
        "# Variable assignment also using type casting\n",
        "Name = \"Jim\" # string\n",
        "Age = 23 # int\n",
        "Cgpa = 3.78 # float\n",
        "type_check = True # bool\n",
        "\n",
        "print(\"Name : \" +Name)\n",
        "print(\"Age: \"+ str(Age))\n",
        "print(\"CGPA: \" + str(Cgpa))\n",
        "print(type_check)\n",
        "print(type(Name))\n",
        "print(type(Cgpa))\n",
        "print(type(type_check))"
      ],
      "metadata": {
        "colab": {
          "base_uri": "https://localhost:8080/"
        },
        "id": "xCuBiln4o15p",
        "outputId": "f1d3773b-3660-4b40-8580-91e3286e5c08"
      },
      "execution_count": null,
      "outputs": [
        {
          "output_type": "stream",
          "name": "stdout",
          "text": [
            "Name : Jim\n",
            "Age: 23\n",
            "CGPA: 3.78\n",
            "True\n",
            "<class 'str'>\n",
            "<class 'float'>\n",
            "<class 'bool'>\n"
          ]
        }
      ]
    },
    {
      "cell_type": "code",
      "source": [
        "#Dynamic Typing\n",
        "name = \"Jim\" # String\n",
        "x = 23  # Integer\n",
        "y = 3.1416 # Float\n",
        "\n",
        "print(name,x,y)"
      ],
      "metadata": {
        "colab": {
          "base_uri": "https://localhost:8080/"
        },
        "id": "TrWgURbEsNDA",
        "outputId": "48adb7e3-f41a-474a-8e70-312ac7224c2a"
      },
      "execution_count": null,
      "outputs": [
        {
          "output_type": "stream",
          "name": "stdout",
          "text": [
            "Jim 23 3.1416\n"
          ]
        }
      ]
    },
    {
      "cell_type": "code",
      "source": [
        "#Swapping Values\n",
        "a = 10\n",
        "b = 70\n",
        "\n",
        "a, b = b, a\n",
        "print(a, b)"
      ],
      "metadata": {
        "colab": {
          "base_uri": "https://localhost:8080/"
        },
        "id": "nExaMQDPsxOy",
        "outputId": "c474c9ea-7cd0-4d45-ada1-266551c8784e"
      },
      "execution_count": null,
      "outputs": [
        {
          "output_type": "stream",
          "name": "stdout",
          "text": [
            "70 10\n"
          ]
        }
      ]
    },
    {
      "cell_type": "code",
      "source": [
        "# Dynamic typing - changing variable type\n",
        "dynamic_variable = 42\n",
        "print(\"Dynamic Variable (initial):\", dynamic_variable)\n",
        "print(type(dynamic_variable))\n",
        "dynamic_variable = \"Hello, World!\"\n",
        "print(\"Dynamic Variable (updated):\", dynamic_variable)\n",
        "print(type(dynamic_variable))"
      ],
      "metadata": {
        "colab": {
          "base_uri": "https://localhost:8080/"
        },
        "id": "Si4HMQ-Dt5F6",
        "outputId": "be427a78-79ba-453b-f22a-0e38da21657b"
      },
      "execution_count": null,
      "outputs": [
        {
          "output_type": "stream",
          "name": "stdout",
          "text": [
            "Dynamic Variable (initial): 42\n",
            "<class 'int'>\n",
            "Dynamic Variable (updated): Hello, World!\n",
            "<class 'str'>\n"
          ]
        }
      ]
    },
    {
      "cell_type": "markdown",
      "source": [
        "# **Python operations**:"
      ],
      "metadata": {
        "id": "_Lz9j7SrJ9sf"
      }
    },
    {
      "cell_type": "markdown",
      "source": [
        "##Arithmetic Operations:"
      ],
      "metadata": {
        "id": "EJ6i9um4Rtmk"
      }
    },
    {
      "cell_type": "code",
      "source": [
        "A=100.75\n",
        "B=20\n",
        "\n",
        "Addition =A+B\n",
        "Subtraction =A-B\n",
        "Multiplication=A*B\n",
        "Division = A/B\n",
        "Modulus = A%B\n",
        "Floor_division =A//B\n",
        "Exponentiation= A**B\n",
        "\n",
        "print(Addition, Subtraction, Multiplication, Division, Floor_division, Modulus, Exponentiation)\n",
        "print(type(Subtraction))"
      ],
      "metadata": {
        "colab": {
          "base_uri": "https://localhost:8080/"
        },
        "id": "hRkNRgH_SQGp",
        "outputId": "5ca61810-24a4-43c1-e11a-6d57eaddcec3"
      },
      "execution_count": null,
      "outputs": [
        {
          "output_type": "stream",
          "name": "stdout",
          "text": [
            "120.75 80.75 2015.0 5.0375 5.0 0.75 1.1611841423031978e+40\n",
            "<class 'float'>\n"
          ]
        }
      ]
    },
    {
      "cell_type": "markdown",
      "source": [
        "##Comparison Operations:"
      ],
      "metadata": {
        "id": "euxZjrLIRuJ5"
      }
    },
    {
      "cell_type": "code",
      "source": [
        "A=100\n",
        "B=70\n",
        "\n",
        "Check_equal= (A==B)\n",
        "print(Check_equal)\n",
        "Check_Not_equal= (A!=B)\n",
        "print(Check_Not_equal)\n",
        "Greater_than = A>B\n",
        "print(Greater_than)\n",
        "Less_than=A<B\n",
        "print(Less_than)\n",
        "Greater_than_or_equal_to =  (A >= B)\n",
        "print(Greater_than_or_equal_to)\n",
        "Less_than_or_equal_to = (A <= B)\n",
        "print(Less_than_or_equal_to)\n"
      ],
      "metadata": {
        "colab": {
          "base_uri": "https://localhost:8080/"
        },
        "id": "trCPy270SSf3",
        "outputId": "b45a78b3-bec8-4297-baca-5286f20fc600"
      },
      "execution_count": null,
      "outputs": [
        {
          "output_type": "stream",
          "name": "stdout",
          "text": [
            "False\n",
            "True\n",
            "True\n",
            "False\n",
            "True\n",
            "False\n"
          ]
        }
      ]
    },
    {
      "cell_type": "markdown",
      "source": [
        "## Logical Operations:"
      ],
      "metadata": {
        "id": "ugO7T7A2R9se"
      }
    },
    {
      "cell_type": "code",
      "source": [
        "A= True\n",
        "B = False\n",
        "\n",
        "logical_and = A and B\n",
        "logical_or = A or B\n",
        "logical_not = not B\n",
        "\n",
        "print(logical_and, logical_or,logical_not)"
      ],
      "metadata": {
        "colab": {
          "base_uri": "https://localhost:8080/"
        },
        "id": "mXIL5LUOST3D",
        "outputId": "a9fd6f37-b0b2-4a48-d532-23197aacf6cc"
      },
      "execution_count": null,
      "outputs": [
        {
          "output_type": "stream",
          "name": "stdout",
          "text": [
            "False True True\n"
          ]
        }
      ]
    },
    {
      "cell_type": "markdown",
      "source": [
        "## Bitwise Operations:\n"
      ],
      "metadata": {
        "id": "ceuD3MWSSEct"
      }
    },
    {
      "cell_type": "code",
      "source": [
        "A = 10 # binary 1010\n",
        "B = 3 # binary 011\n",
        "\n",
        "bitwise_and = A & B\n",
        "bitwise_or = A | B\n",
        "bitwise_not = ~A\n",
        "bitwise_xor = A ^ B\n",
        "\n",
        "\n",
        "print(bitwise_and, bitwise_or, bitwise_not, bitwise_xor)"
      ],
      "metadata": {
        "colab": {
          "base_uri": "https://localhost:8080/"
        },
        "id": "KOYpXjJlJ8U-",
        "outputId": "73e8cc55-5531-488a-b330-6aca36759fb3"
      },
      "execution_count": null,
      "outputs": [
        {
          "output_type": "stream",
          "name": "stdout",
          "text": [
            "0 4 -1 4\n"
          ]
        }
      ]
    },
    {
      "cell_type": "code",
      "source": [
        "A = 10\n",
        "B = 5\n",
        "C = 8\n",
        "\n",
        "# Precedence: ~(Highest), << >>, &, ^, |(lowest)\n",
        "ans = A & B | C >> 1\n",
        "print(C>>1)\n",
        "print(A&B)\n",
        "print(B|C)\n",
        "\n",
        "print(ans)"
      ],
      "metadata": {
        "colab": {
          "base_uri": "https://localhost:8080/"
        },
        "id": "Ds4OOMeoQkQh",
        "outputId": "e3867a79-a890-4c37-c841-be0b0d48f9e4"
      },
      "execution_count": null,
      "outputs": [
        {
          "output_type": "stream",
          "name": "stdout",
          "text": [
            "4\n",
            "0\n",
            "13\n",
            "4\n"
          ]
        }
      ]
    },
    {
      "cell_type": "markdown",
      "source": [
        "# **Strings**"
      ],
      "metadata": {
        "id": "nJW_RL2ZROH_"
      }
    },
    {
      "cell_type": "markdown",
      "source": [
        "##**Quotes:**In Python we can create strings using single (' '), double (\" \"), or triple (''' ''' or \"\"\" \"\"\") quotes:\n",
        "\n",
        "1. **Single quotes**\n",
        "2. **Double quotes**\n",
        "3. **Triple single quotes**\n",
        "\n",
        "\n",
        "\n",
        "\n",
        "\n",
        "\n",
        "\n",
        "\n",
        "\n"
      ],
      "metadata": {
        "id": "FPz6drBoSjoM"
      }
    },
    {
      "cell_type": "code",
      "source": [
        "#Single quotes:\n",
        "single_quoted_string = 'Hello, World!'\n",
        "print(single_quoted_string)\n"
      ],
      "metadata": {
        "colab": {
          "base_uri": "https://localhost:8080/"
        },
        "id": "M5Bkaf5BUBAX",
        "outputId": "8f57318a-6e31-4a4d-e04f-2c754cce995f"
      },
      "execution_count": null,
      "outputs": [
        {
          "output_type": "stream",
          "name": "stdout",
          "text": [
            "Hello, World!\n"
          ]
        }
      ]
    },
    {
      "cell_type": "code",
      "source": [
        "#Double quotes:\n",
        "double_quoted_string = \"Python is awesome!\"\n",
        "print(double_quoted_string)\n"
      ],
      "metadata": {
        "colab": {
          "base_uri": "https://localhost:8080/"
        },
        "id": "d9Pn9RaBU4mi",
        "outputId": "32aa4745-de5f-4981-e97b-8da306ac9632"
      },
      "execution_count": null,
      "outputs": [
        {
          "output_type": "stream",
          "name": "stdout",
          "text": [
            "Python is awesome!\n"
          ]
        }
      ]
    },
    {
      "cell_type": "code",
      "source": [
        "#Triple single quotes:\n",
        "multiline_string = '''This is a multiline\n",
        "string in Python.'''\n",
        "print(multiline_string)\n"
      ],
      "metadata": {
        "colab": {
          "base_uri": "https://localhost:8080/"
        },
        "id": "qJ7J87ebU_M2",
        "outputId": "585781d9-6fac-45c5-e2a3-8d7f1e4c58aa"
      },
      "execution_count": null,
      "outputs": [
        {
          "output_type": "stream",
          "name": "stdout",
          "text": [
            "This is a multiline string in Python.\n"
          ]
        }
      ]
    },
    {
      "cell_type": "code",
      "source": [
        "# Accessing Characters\n",
        "name = \"Jannatul Fardaous Jim\"\n",
        "first_character = name[0]\n",
        "nineth_character = name[9]\n",
        "\n",
        "print(first_character, nineth_character)"
      ],
      "metadata": {
        "colab": {
          "base_uri": "https://localhost:8080/"
        },
        "id": "CqTXo1X2WLUM",
        "outputId": "08bc56ce-c9c2-4985-d812-47db23abd44d"
      },
      "execution_count": null,
      "outputs": [
        {
          "output_type": "stream",
          "name": "stdout",
          "text": [
            "J F\n"
          ]
        }
      ]
    },
    {
      "cell_type": "code",
      "source": [
        "# String Slicing\n",
        "\n",
        "name = \"Jannatul Fardaous Jim\"\n",
        "substring = name[0:8] # start point 0: end point 8\n",
        "print(substring)"
      ],
      "metadata": {
        "colab": {
          "base_uri": "https://localhost:8080/"
        },
        "id": "4R1sTxR3Ws5n",
        "outputId": "295ec53d-e52e-45d1-ab2b-4edc5c519ccf"
      },
      "execution_count": null,
      "outputs": [
        {
          "output_type": "stream",
          "name": "stdout",
          "text": [
            "Jannatul\n"
          ]
        }
      ]
    },
    {
      "cell_type": "markdown",
      "source": [
        "##Method"
      ],
      "metadata": {
        "id": "dWwSrvcaXR1h"
      }
    },
    {
      "cell_type": "markdown",
      "source": [
        "Python provides a variety of built-in methods for working with strings. Some common methods include:\n",
        "\n",
        "**len(): Returns the length of the string.**\n",
        "\n",
        "**lower(), upper(): Converts the string to lowercase or uppercase.**\n",
        "\n",
        "**capitalize(): Capitalize the first character of a string.**\n",
        "\n",
        "**strip(): Removes leading and trailing whitespaces.**\n",
        "\n",
        "**replace(old, new): Replaces occurrences of a substring with another substring.**\n",
        "\n",
        "**split(delimiter): Splits the string into a list of substrings based on a delimiter.**"
      ],
      "metadata": {
        "id": "8Ir5_NxyXsSU"
      }
    },
    {
      "cell_type": "code",
      "source": [
        "string = \"  hello, World!   \"\n",
        "\n",
        "length = len(string)\n",
        "print(\"total character is: \", length)\n",
        "\n",
        "uppercase_string = string.upper()\n",
        "print(uppercase_string)\n",
        "lowercase_string = string.lower()\n",
        "print(lowercase_string)\n",
        "capitalized_sentence = string.capitalize()\n",
        "print(capitalized_sentence)\n",
        "strip_string = string.strip()\n",
        "print(strip_string)\n",
        "print(len(strip_string))\n",
        "\n",
        "split_string = string.split(\",\")\n",
        "print(split_string)\n",
        "sentence =\"Python is awesome!\"\n",
        "Replace_string = string.replace (string, sentence)\n",
        "print(Replace_string)\n"
      ],
      "metadata": {
        "colab": {
          "base_uri": "https://localhost:8080/"
        },
        "id": "ExtN61aMbgSn",
        "outputId": "d7b25689-d9db-4afc-e643-8cec82ee9d8c"
      },
      "execution_count": null,
      "outputs": [
        {
          "output_type": "stream",
          "name": "stdout",
          "text": [
            "total character is:  18\n",
            "  HELLO, WORLD!   \n",
            "  hello, world!   \n",
            "  hello, world!   \n",
            "hello, World!\n",
            "13\n",
            "['  hello', ' World!   ']\n",
            "Python is awesome!\n"
          ]
        }
      ]
    },
    {
      "cell_type": "markdown",
      "source": [
        "##Formatting\n",
        "\n",
        "\n",
        "1.    format() method\n",
        "2.     f-strings\n",
        "\n",
        "\n"
      ],
      "metadata": {
        "id": "hYW1XeFjdCbC"
      }
    },
    {
      "cell_type": "code",
      "source": [
        "#Using format() method:\n",
        "name = \"Alice\"\n",
        "age = 30\n",
        "\n",
        "# Using positional arguments\n",
        "greeting = \"Hello, {}! You are {} years old.\".format(name, age)\n",
        "print(greeting)\n",
        "\n",
        "# Using assigning  arguments\n",
        "formatted_text = \"Name: {n}, Age: {a}\".format(n=name, a=age)\n",
        "print(formatted_text)\n"
      ],
      "metadata": {
        "id": "vB9c29yYcy8o",
        "colab": {
          "base_uri": "https://localhost:8080/"
        },
        "outputId": "aa9e339f-f175-4c7d-809e-bc42f2878869"
      },
      "execution_count": null,
      "outputs": [
        {
          "output_type": "stream",
          "name": "stdout",
          "text": [
            "Hello, Alice! You are 30 years old.\n",
            "Name: Alice, Age: 30\n"
          ]
        }
      ]
    },
    {
      "cell_type": "code",
      "source": [
        "# Using f-strings\n",
        "name = \"Bob\"\n",
        "age = 25\n",
        "\n",
        "# Using f-strings\n",
        "greeting = f\"Hi, {name}! You are {age} years old.\"\n",
        "print(greeting)"
      ],
      "metadata": {
        "colab": {
          "base_uri": "https://localhost:8080/"
        },
        "id": "0v9anhd7eYMx",
        "outputId": "b1d1728f-8837-41a4-e082-25992079cc3c"
      },
      "execution_count": null,
      "outputs": [
        {
          "output_type": "stream",
          "name": "stdout",
          "text": [
            "Hi, Bob! You are 25 years old.\n"
          ]
        }
      ]
    },
    {
      "cell_type": "markdown",
      "source": [
        "##concatenation"
      ],
      "metadata": {
        "id": "qKdB_yFpfSXW"
      }
    },
    {
      "cell_type": "code",
      "source": [
        " # You can concatenate strings using the + operator or by using string formatting.\n",
        "first_name = \"JannaTul\"\n",
        "mid_name=\"Fardaous\"\n",
        "last_name = \"Jim\"\n",
        "full_name = first_name + \" \"+mid_name +\" \" + last_name\n",
        "print(full_name)\n"
      ],
      "metadata": {
        "colab": {
          "base_uri": "https://localhost:8080/"
        },
        "id": "bjh3z4W9fcsv",
        "outputId": "493337e1-c0d9-4905-c394-e321589e8981"
      },
      "execution_count": null,
      "outputs": [
        {
          "output_type": "stream",
          "name": "stdout",
          "text": [
            "JannaTul Fardaous Jim\n"
          ]
        }
      ]
    },
    {
      "cell_type": "markdown",
      "source": [
        "#**Conditional Statements (if, elif, else):**"
      ],
      "metadata": {
        "id": "GB0TsH1zktgl"
      }
    },
    {
      "cell_type": "code",
      "source": [
        "# Example 1: Simple if-else statement\n",
        "x = 10\n",
        "\n",
        "if x > 5:\n",
        "    print(\"x is greater than 5\")\n",
        "else:\n",
        "    print(\"x is not greater than 5\")\n"
      ],
      "metadata": {
        "id": "SbPwJ3RkkyNo"
      },
      "execution_count": null,
      "outputs": []
    },
    {
      "cell_type": "code",
      "source": [
        "# Example 2: Using if-elif-else statement\n",
        "y = 15\n",
        "\n",
        "if y < 10:\n",
        "    print(\"y is less than 10\")\n",
        "elif y >= 10 and y <= 20:\n",
        "    print(\"y is between 10 and 20\")\n",
        "else:\n",
        "    print(\"y is greater than 20\")\n"
      ],
      "metadata": {
        "id": "6nFHkMgAlmX6"
      },
      "execution_count": null,
      "outputs": []
    },
    {
      "cell_type": "code",
      "source": [
        "# Example 3: Using only if statement\n",
        "z = 5\n",
        "\n",
        "if z % 2 == 0:\n",
        "    print(\"z is an even number\")\n"
      ],
      "metadata": {
        "id": "TmclZyjclrTG"
      },
      "execution_count": null,
      "outputs": []
    },
    {
      "cell_type": "code",
      "source": [
        "#Nested if else:\n",
        "A,B,C = 20,90,5\n",
        "if A>B and A>C:\n",
        "  if (A%2==0):\n",
        "    print('even: ', A)\n",
        "  else:\n",
        "    print('Odd', A)\n",
        "elif B>A and B>C:\n",
        "  if(B%2==0):\n",
        "     print('even: ', B)\n",
        "  else:\n",
        "    print('Odd', B)\n",
        "else:\n",
        "  if(C%2==0):\n",
        "      print('even: ', C)\n",
        "  else:\n",
        "      print('Odd', C)\n"
      ],
      "metadata": {
        "colab": {
          "base_uri": "https://localhost:8080/"
        },
        "id": "SwisgG6EnBFs",
        "outputId": "a4027edf-25e9-4e23-eb0b-091107049007"
      },
      "execution_count": null,
      "outputs": [
        {
          "output_type": "stream",
          "name": "stdout",
          "text": [
            "even:  90\n"
          ]
        }
      ]
    },
    {
      "cell_type": "code",
      "source": [
        "if 5<10:\n",
        "  print('if block')\n",
        "  if 0: # 0 counted as false in python\n",
        "    print(3)\n",
        "  elif 1: # 1 0r others positive number counted as true\n",
        "    print('6')\n",
        "  else:\n",
        "    print('neseted else')\n",
        "elif 5>10:\n",
        "  print('else if block')\n",
        "else:\n",
        "  print('else blcok')\n",
        "print('L')\n"
      ],
      "metadata": {
        "colab": {
          "base_uri": "https://localhost:8080/"
        },
        "id": "_jUWgU7EnqRd",
        "outputId": "a1cdd6a0-4bec-456d-a262-ffae0ca502d0"
      },
      "execution_count": null,
      "outputs": [
        {
          "output_type": "stream",
          "name": "stdout",
          "text": [
            "if block\n",
            "6\n",
            "L\n"
          ]
        }
      ]
    },
    {
      "cell_type": "markdown",
      "source": [
        "# **Input From User**"
      ],
      "metadata": {
        "id": "2Hb9cvoEU1ei"
      }
    },
    {
      "cell_type": "code",
      "source": [
        "user_name = input(\"Enter your name: \")\n",
        "print(\"Hello, \" + user_name + \"!\")"
      ],
      "metadata": {
        "id": "GF8l_BIEVFT2"
      },
      "execution_count": null,
      "outputs": []
    },
    {
      "cell_type": "code",
      "source": [
        "# Get an integer input from the user\n",
        "user_integer = int(input(\"Enter an integer: \"))\n",
        "print(\"You entered:\", user_integer)"
      ],
      "metadata": {
        "id": "shh0TInXWXvt",
        "colab": {
          "base_uri": "https://localhost:8080/"
        },
        "outputId": "c67c50b7-0c25-40a4-bf39-baa071735a0e"
      },
      "execution_count": null,
      "outputs": [
        {
          "output_type": "stream",
          "name": "stdout",
          "text": [
            "Enter an integer: 25\n",
            "You entered: 25\n"
          ]
        }
      ]
    },
    {
      "cell_type": "code",
      "source": [
        "# Get an integer input from the user\n",
        "user_integer = int(input(\"Enter an integer: \"))\n",
        "print(\"You entered:\", user_integer)\n"
      ],
      "metadata": {
        "id": "qj6Atl61WFBx"
      },
      "execution_count": null,
      "outputs": []
    },
    {
      "cell_type": "code",
      "source": [
        "# Get a string input from the user\n",
        "user_string = input(\"Enter a string: \")\n",
        "print(\"You entered:\", user_string)\n"
      ],
      "metadata": {
        "id": "aUWV2l7dWGEd"
      },
      "execution_count": null,
      "outputs": []
    },
    {
      "cell_type": "code",
      "source": [
        "# Get multiple inputs from the user\n",
        "name = input(\"Enter your name: \")\n",
        "age = int(input(\"Enter your age: \"))\n",
        "height = float(input(\"Enter your height in meters: \"))\n",
        "\n",
        "print(\"Name:\", name)\n",
        "print(\"Age:\", age)\n",
        "print(\"Height:\", height)\n"
      ],
      "metadata": {
        "id": "n5-e9jGyWMkP"
      },
      "execution_count": null,
      "outputs": []
    },
    {
      "cell_type": "markdown",
      "source": [
        "## comment"
      ],
      "metadata": {
        "id": "bNTRXPeBjte5"
      }
    },
    {
      "cell_type": "code",
      "source": [
        "#This is a single-line comment\n",
        "\n",
        "\"\"\"\n",
        "This is a\n",
        "multi-line comment\n",
        "\"\"\""
      ],
      "metadata": {
        "id": "xTcdUdBOXGTs"
      },
      "execution_count": null,
      "outputs": []
    },
    {
      "cell_type": "markdown",
      "source": [
        "# **Loops**\n",
        "\n",
        "1.   while loop\n",
        "2.   for loop\n",
        "\n"
      ],
      "metadata": {
        "id": "-nsICYPZZFB9"
      }
    },
    {
      "cell_type": "markdown",
      "source": [
        "## While loop"
      ],
      "metadata": {
        "id": "1IsvkCB8anGG"
      }
    },
    {
      "cell_type": "code",
      "source": [
        "# While Loop\n",
        "count = 0\n",
        "while(count < 10):\n",
        "    print(count)\n",
        "    count += 1"
      ],
      "metadata": {
        "id": "3yk8AOuWZMu0"
      },
      "execution_count": null,
      "outputs": []
    },
    {
      "cell_type": "markdown",
      "source": [
        "## for loop"
      ],
      "metadata": {
        "id": "AwcWnDKbaThV"
      }
    },
    {
      "cell_type": "code",
      "source": [
        "# Using a for loop to print numbers from 1 to 20\n",
        "for i in range(1,21):  # The range generates numbers from 1 to 20 (inclusive)\n",
        "  print(i)"
      ],
      "metadata": {
        "colab": {
          "base_uri": "https://localhost:8080/"
        },
        "id": "tuehcPKFag9h",
        "outputId": "284f674f-119e-48a4-fb2e-98b71788768c"
      },
      "execution_count": null,
      "outputs": [
        {
          "output_type": "stream",
          "name": "stdout",
          "text": [
            "1\n",
            "2\n",
            "3\n",
            "4\n",
            "5\n",
            "6\n",
            "7\n",
            "8\n",
            "9\n",
            "10\n",
            "11\n",
            "12\n",
            "13\n",
            "14\n",
            "15\n",
            "16\n",
            "17\n",
            "18\n",
            "19\n",
            "20\n"
          ]
        }
      ]
    },
    {
      "cell_type": "code",
      "source": [
        "# Using break to exit the loop when reaching 3\n",
        "for i in range(5):\n",
        "    if i == 3:\n",
        "        break\n",
        "    print(i)"
      ],
      "metadata": {
        "colab": {
          "base_uri": "https://localhost:8080/"
        },
        "id": "a1xUlsl5eG53",
        "outputId": "9baefe6f-ad59-44a9-d4a3-4ef41301429b"
      },
      "execution_count": null,
      "outputs": [
        {
          "output_type": "stream",
          "name": "stdout",
          "text": [
            "0\n",
            "1\n",
            "2\n"
          ]
        }
      ]
    },
    {
      "cell_type": "code",
      "source": [
        "# Using continue to skip printing 3\n",
        "for i in range(5):\n",
        "    if i == 3:\n",
        "        continue\n",
        "    print(i)"
      ],
      "metadata": {
        "colab": {
          "base_uri": "https://localhost:8080/"
        },
        "id": "MSabemjDeLyd",
        "outputId": "727a925f-da60-45e5-97cf-b791f888356a"
      },
      "execution_count": null,
      "outputs": [
        {
          "output_type": "stream",
          "name": "stdout",
          "text": [
            "0\n",
            "1\n",
            "2\n",
            "4\n"
          ]
        }
      ]
    },
    {
      "cell_type": "code",
      "source": [
        "\n",
        "for i in range(1,20,2):\n",
        "  print(i)"
      ],
      "metadata": {
        "colab": {
          "base_uri": "https://localhost:8080/"
        },
        "id": "Y31uwsh5cgby",
        "outputId": "030bde09-e4c0-4d68-e481-db15a3932cf6"
      },
      "execution_count": null,
      "outputs": [
        {
          "output_type": "stream",
          "name": "stdout",
          "text": [
            "1\n",
            "3\n",
            "5\n",
            "7\n",
            "9\n",
            "11\n",
            "13\n",
            "15\n",
            "17\n",
            "19\n"
          ]
        }
      ]
    },
    {
      "cell_type": "code",
      "source": [
        "for i in range(10, -1, -2):\n",
        "  print(i)"
      ],
      "metadata": {
        "colab": {
          "base_uri": "https://localhost:8080/"
        },
        "id": "v3SCHJbcZ9JI",
        "outputId": "83ccd09d-46ef-4386-d51d-c4a30909d2a7"
      },
      "execution_count": null,
      "outputs": [
        {
          "output_type": "stream",
          "name": "stdout",
          "text": [
            "10\n",
            "8\n",
            "6\n",
            "4\n",
            "2\n",
            "0\n"
          ]
        }
      ]
    },
    {
      "cell_type": "markdown",
      "source": [
        "##For Loop Advanced Feature"
      ],
      "metadata": {
        "id": "y3jY28y3bj1X"
      }
    },
    {
      "cell_type": "code",
      "source": [
        "# Looping with a Positive Step:\n",
        "# Loop from 0 to 10 with a step of 2\n",
        "for i in range(0, 11, 2):\n",
        "    print(i)"
      ],
      "metadata": {
        "id": "QXKuLtIVbi4v",
        "colab": {
          "base_uri": "https://localhost:8080/"
        },
        "outputId": "f23cdb48-a936-4e94-861c-70d778df2d0d"
      },
      "execution_count": null,
      "outputs": [
        {
          "output_type": "stream",
          "name": "stdout",
          "text": [
            "0\n",
            "2\n",
            "4\n",
            "6\n",
            "8\n",
            "10\n"
          ]
        }
      ]
    },
    {
      "cell_type": "code",
      "source": [
        "# Loop from 1.0 to 10.0 with a step of 0.5 using a while loop\n",
        "i = 1.0\n",
        "while i <= 10.0:\n",
        "    print(i)\n",
        "    i += 0.5\n"
      ],
      "metadata": {
        "id": "ZErjZKGvblcY"
      },
      "execution_count": null,
      "outputs": []
    },
    {
      "cell_type": "code",
      "source": [
        "# Loop from 1.0 to 10.0 with a step of 0.5 using a for loop\n",
        "count = 1\n",
        "for i in range(20):\n",
        "  print(count)\n",
        "  count+=.5"
      ],
      "metadata": {
        "id": "f-eL-akrb2d1",
        "colab": {
          "base_uri": "https://localhost:8080/"
        },
        "outputId": "51b9d5fd-e547-4ec2-d6ed-982c6e73b650"
      },
      "execution_count": null,
      "outputs": [
        {
          "output_type": "stream",
          "name": "stdout",
          "text": [
            "1\n",
            "1.5\n",
            "2.0\n",
            "2.5\n",
            "3.0\n",
            "3.5\n",
            "4.0\n",
            "4.5\n",
            "5.0\n",
            "5.5\n",
            "6.0\n",
            "6.5\n",
            "7.0\n",
            "7.5\n",
            "8.0\n",
            "8.5\n",
            "9.0\n",
            "9.5\n",
            "10.0\n",
            "10.5\n"
          ]
        }
      ]
    },
    {
      "cell_type": "markdown",
      "source": [
        "# **List**"
      ],
      "metadata": {
        "id": "rQj-pBnsDO00"
      }
    },
    {
      "cell_type": "markdown",
      "source": [
        "## Creating List"
      ],
      "metadata": {
        "id": "TgO-Wj46IRY6"
      }
    },
    {
      "cell_type": "code",
      "source": [
        "# Creating List in python\n",
        "list = [1, 2, 3, 4, 5, 'Jannatul', 'Fardaous', 'Jim']\n",
        "print(list)"
      ],
      "metadata": {
        "id": "v7pDeFW9DU3G"
      },
      "execution_count": null,
      "outputs": []
    },
    {
      "cell_type": "markdown",
      "source": [
        "## Accessing Elements"
      ],
      "metadata": {
        "id": "y0r5YfLKIfE_"
      }
    },
    {
      "cell_type": "code",
      "source": [
        "# Accessing Elements\n",
        "list = [1, 2, 3, 4, 5, 'Jannatul', 'Fardaous', 'Jim']\n",
        "print(list)\n",
        "print(list[0])\n",
        "print(list[-3])\n",
        "print(list[6])"
      ],
      "metadata": {
        "colab": {
          "base_uri": "https://localhost:8080/"
        },
        "id": "8UJo3-6ZEc3B",
        "outputId": "9a88bbda-9ff9-4475-cb92-db52569f9cdf"
      },
      "execution_count": null,
      "outputs": [
        {
          "output_type": "stream",
          "name": "stdout",
          "text": [
            "[1, 2, 3, 4, 5, 'Jannatul', 'Fardaous', 'Jim']\n",
            "1\n",
            "Jannatul\n",
            "Fardaous\n"
          ]
        }
      ]
    },
    {
      "cell_type": "markdown",
      "source": [
        "##Slicing list"
      ],
      "metadata": {
        "id": "k2421OfbIyOI"
      }
    },
    {
      "cell_type": "code",
      "source": [
        "# Slicing list\n",
        "list = [1, 2, 3, 4, 5, 'Jannatul', 'Fardaous', 'Jim']\n",
        "print(list)\n",
        "print(list [-6:-1])"
      ],
      "metadata": {
        "colab": {
          "base_uri": "https://localhost:8080/"
        },
        "id": "jljDwlKAFNHI",
        "outputId": "fb544e0f-416a-4be0-cbe3-85d797cd49d5"
      },
      "execution_count": null,
      "outputs": [
        {
          "output_type": "stream",
          "name": "stdout",
          "text": [
            "[1, 2, 3, 4, 5, 'Jannatul', 'Fardaous', 'Jim']\n",
            "[3, 4, 5, 'Jannatul', 'Fardaous']\n"
          ]
        }
      ]
    },
    {
      "cell_type": "markdown",
      "source": [
        "##List Concatenation"
      ],
      "metadata": {
        "id": "oucNJuEcMCEm"
      }
    },
    {
      "cell_type": "code",
      "source": [
        "list1 = [1, 2, 3,4]\n",
        "list2 = [ 5, 6]\n",
        "combined_list = list1 + list2\n",
        "combined_list"
      ],
      "metadata": {
        "colab": {
          "base_uri": "https://localhost:8080/"
        },
        "id": "NXFG4PnKMEXl",
        "outputId": "b4ead209-d58c-4dd7-8c9c-9a7dbf0d3f61"
      },
      "execution_count": null,
      "outputs": [
        {
          "output_type": "execute_result",
          "data": {
            "text/plain": [
              "[1, 2, 3, 4, 5, 6]"
            ]
          },
          "metadata": {},
          "execution_count": 35
        }
      ]
    },
    {
      "cell_type": "markdown",
      "source": [
        "##Modifying List"
      ],
      "metadata": {
        "id": "jaqGGmWSI6ST"
      }
    },
    {
      "cell_type": "code",
      "source": [
        "# Modifying List\n",
        "list = [1, 2, 3, 4, 5, 'Jannatul', 'Fardaous', 'Jim']\n",
        "print(list)\n",
        "\n",
        "list.append(\"Python\")\n",
        "print(list)\n",
        "\n",
        "list[2] = \"Programming\"\n",
        "print(list)\n",
        "\n",
        "\n",
        "list.insert(2, 10)\n",
        "print (list)\n",
        "\n",
        "list.remove('Jannatul')\n",
        "print(list)\n",
        "\n",
        "list_pop=list.pop(6)\n",
        "print(list_pop)\n",
        "print(list)"
      ],
      "metadata": {
        "colab": {
          "base_uri": "https://localhost:8080/"
        },
        "id": "VLtWFrZ7F57r",
        "outputId": "f75a4b21-38ef-4f6c-8293-e27e0284323e"
      },
      "execution_count": null,
      "outputs": [
        {
          "output_type": "stream",
          "name": "stdout",
          "text": [
            "[1, 2, 3, 4, 5, 'Jannatul', 'Fardaous', 'Jim']\n",
            "[1, 2, 3, 4, 5, 'Jannatul', 'Fardaous', 'Jim', 'Python']\n",
            "[1, 2, 'Programming', 4, 5, 'Jannatul', 'Fardaous', 'Jim', 'Python']\n",
            "[1, 2, 10, 'Programming', 4, 5, 'Jannatul', 'Fardaous', 'Jim', 'Python']\n",
            "[1, 2, 10, 'Programming', 4, 5, 'Fardaous', 'Jim', 'Python']\n",
            "Fardaous\n",
            "[1, 2, 10, 'Programming', 4, 5, 'Jim', 'Python']\n"
          ]
        }
      ]
    },
    {
      "cell_type": "markdown",
      "source": [
        "##List Methods"
      ],
      "metadata": {
        "id": "-tzh8IR-JAMU"
      }
    },
    {
      "cell_type": "code",
      "source": [
        "list = [1, 2, 3, 4, 5, 'Jannatul', 'Fardaous', 'Jim']\n",
        "print(list)\n",
        "print(len(list))"
      ],
      "metadata": {
        "colab": {
          "base_uri": "https://localhost:8080/"
        },
        "id": "bg8Yb4EXJGb0",
        "outputId": "126ba1c4-ef3b-453d-df66-01520a4b9610"
      },
      "execution_count": null,
      "outputs": [
        {
          "output_type": "stream",
          "name": "stdout",
          "text": [
            "[1, 2, 3, 4, 5, 'Jannatul', 'Fardaous', 'Jim']\n",
            "8\n"
          ]
        }
      ]
    },
    {
      "cell_type": "code",
      "source": [
        "# Example list\n",
        "numbers = [4, 2, 7, 1, 9, 3]\n",
        "\n",
        "# Sorting the list in ascending order\n",
        "sorted_numbers_ascending = sorted(numbers)\n",
        "print(\"Sorted in ascending order:\", sorted_numbers_ascending)\n",
        "\n",
        "# Sorting the list in descending order\n",
        "sorted_numbers_descending = sorted(numbers, reverse=True)\n",
        "print(\"Sorted in descending order:\", sorted_numbers_descending)\n",
        "\n",
        "# The original list remains unchanged\n",
        "print(\"Original list:\", numbers)\n"
      ],
      "metadata": {
        "colab": {
          "base_uri": "https://localhost:8080/"
        },
        "id": "i3R0jzI2KGRF",
        "outputId": "437ebd38-7cdb-4ed0-eff5-b7d06e5bf5df"
      },
      "execution_count": null,
      "outputs": [
        {
          "output_type": "stream",
          "name": "stdout",
          "text": [
            "Sorted in ascending order: [1, 2, 3, 4, 7, 9]\n",
            "Sorted in descending order: [9, 7, 4, 3, 2, 1]\n",
            "Original list: [4, 2, 7, 1, 9, 3]\n"
          ]
        }
      ]
    },
    {
      "cell_type": "markdown",
      "source": [
        "##List Operation"
      ],
      "metadata": {
        "id": "V_SD9A1OJjRH"
      }
    },
    {
      "cell_type": "code",
      "source": [
        "list1 = [1, 5, 7]\n",
        "list2 = ['Jannatul', 'Fardaous', 'Jim']\n",
        "\n",
        "connect_list = list1 + list2\n",
        "repeated_list = list1 * 2\n",
        "check_membership = '7' in list2\n",
        "\n",
        "print(connect_list)\n",
        "print(repeated_list)\n",
        "print(check_membership)"
      ],
      "metadata": {
        "colab": {
          "base_uri": "https://localhost:8080/"
        },
        "id": "kyZcFFR6JnBF",
        "outputId": "4ec43995-eebf-459d-8671-82df767c5eb3"
      },
      "execution_count": null,
      "outputs": [
        {
          "output_type": "stream",
          "name": "stdout",
          "text": [
            "[1, 5, 7, 'Jannatul', 'Fardaous', 'Jim']\n",
            "[1, 5, 7, 1, 5, 7]\n",
            "False\n"
          ]
        }
      ]
    },
    {
      "cell_type": "markdown",
      "source": [
        "##Looping Through a List"
      ],
      "metadata": {
        "id": "QZ4W7lBMLVtH"
      }
    },
    {
      "cell_type": "code",
      "source": [
        "list = [1, 2, 3, 4, 5, 'Jannatul', 'Fardaous', 'Jim']\n",
        "\n",
        "for i in list:\n",
        "    print(i)\n"
      ],
      "metadata": {
        "colab": {
          "base_uri": "https://localhost:8080/"
        },
        "id": "ATPmmaYLLYNi",
        "outputId": "1e66d20a-bd06-414b-cc4c-c2781e806827"
      },
      "execution_count": null,
      "outputs": [
        {
          "output_type": "stream",
          "name": "stdout",
          "text": [
            "1\n",
            "2\n",
            "3\n",
            "4\n",
            "5\n",
            "Jannatul\n",
            "Fardaous\n",
            "Jim\n"
          ]
        }
      ]
    },
    {
      "cell_type": "code",
      "source": [
        "list = [1, 2, 3, 4, 5, 'Jannatul', 'Fardaous', 'Jim']\n",
        "for i in list:\n",
        "  print(i)\n",
        "print(len(list))"
      ],
      "metadata": {
        "colab": {
          "base_uri": "https://localhost:8080/"
        },
        "id": "zLJHotZSLuhx",
        "outputId": "37c8f24c-ccb4-42ea-e303-9146ed3765ae"
      },
      "execution_count": null,
      "outputs": [
        {
          "output_type": "stream",
          "name": "stdout",
          "text": [
            "1\n",
            "2\n",
            "3\n",
            "4\n",
            "5\n",
            "Jannatul\n",
            "Fardaous\n",
            "Jim\n",
            "8\n"
          ]
        }
      ]
    },
    {
      "cell_type": "markdown",
      "source": [
        "#Tuples"
      ],
      "metadata": {
        "id": "jJHt5PAlGdmP"
      }
    },
    {
      "cell_type": "code",
      "source": [
        "#You can create a tuple by enclosing a sequence of elements within parentheses ().\n",
        "tuples =(1, 2, 3, 4, 5, 'Jannatul', 'Fardaous', 'Jim')\n",
        "print(tuples)"
      ],
      "metadata": {
        "colab": {
          "base_uri": "https://localhost:8080/"
        },
        "id": "KKGsnSKoGmfw",
        "outputId": "f5cf4f80-4322-4f05-ed1b-29201c8dd786"
      },
      "execution_count": null,
      "outputs": [
        {
          "output_type": "stream",
          "name": "stdout",
          "text": [
            "(1, 2, 3, 4, 5, 'Jannatul', 'Fardaous', 'Jim')\n"
          ]
        }
      ]
    },
    {
      "cell_type": "code",
      "source": [
        "tuples =(1, 2, 3, 4, 5, 'Jannatul', 'Fardaous', 'Jim')\n",
        "print(tuples)\n",
        "\n",
        "print(tuples[0])\n",
        "print(tuples[2])\n",
        "print(tuples[-2])"
      ],
      "metadata": {
        "colab": {
          "base_uri": "https://localhost:8080/"
        },
        "id": "zlvU7HmeJe56",
        "outputId": "347018d7-8f68-4af8-8552-0ab406454601"
      },
      "execution_count": null,
      "outputs": [
        {
          "output_type": "stream",
          "name": "stdout",
          "text": [
            "(1, 2, 3, 4, 5, 'Jannatul', 'Fardaous', 'Jim')\n",
            "1\n",
            "3\n",
            "Fardaous\n"
          ]
        }
      ]
    },
    {
      "cell_type": "code",
      "source": [
        "# Slicing Tuples\n",
        "tuples =(1, 2, 3, 4, 5, 'Jannatul', 'Fardaous', 'Jim')\n",
        "print(tuples[-5:-1])"
      ],
      "metadata": {
        "colab": {
          "base_uri": "https://localhost:8080/"
        },
        "id": "Qzs0pBjkQCr1",
        "outputId": "3b99816f-c890-495a-d029-93d71bf2bfd1"
      },
      "execution_count": null,
      "outputs": [
        {
          "output_type": "stream",
          "name": "stdout",
          "text": [
            "(4, 5, 'Jannatul', 'Fardaous')\n"
          ]
        }
      ]
    },
    {
      "cell_type": "code",
      "source": [
        "tuples[2] = \"jim\"\n",
        "print(tuples)\n",
        "\n",
        "# TypeError: 'tuple' object does not support item assignment"
      ],
      "metadata": {
        "colab": {
          "base_uri": "https://localhost:8080/"
        },
        "id": "vztBTmUARQoZ",
        "outputId": "f1503b2d-9fa9-4b27-f5a5-1ea583d134e2"
      },
      "execution_count": null,
      "outputs": [
        {
          "output_type": "stream",
          "name": "stdout",
          "text": [
            "<class 'tuple'>\n"
          ]
        }
      ]
    },
    {
      "cell_type": "markdown",
      "source": [
        "#**Dictionary**"
      ],
      "metadata": {
        "id": "yHik6e65RpvA"
      }
    },
    {
      "cell_type": "code",
      "source": [
        "# Create Dictionary\n",
        "dictionary = {'name' : \"jim\", 'age' : 23, 'city' : \"Dhaka\"}\n",
        "print(dictionary)"
      ],
      "metadata": {
        "colab": {
          "base_uri": "https://localhost:8080/"
        },
        "id": "mSU2yQUQSAtU",
        "outputId": "72763c0d-29b5-4558-c830-ec2dfa9cfb81"
      },
      "execution_count": null,
      "outputs": [
        {
          "output_type": "stream",
          "name": "stdout",
          "text": [
            "{'name': 'jim', 'age': 23, 'city': 'Dhaka'}\n"
          ]
        }
      ]
    },
    {
      "cell_type": "code",
      "source": [
        "# Accessing Values\n",
        "dictionary = {'name' : \"jim\", 'age' : 23, 'city' : \"Dhaka\"}\n",
        "print(dictionary['name'])\n",
        "print(dictionary['age'])"
      ],
      "metadata": {
        "id": "IuTRuLYfSXpl",
        "colab": {
          "base_uri": "https://localhost:8080/"
        },
        "outputId": "fbc96f8f-2756-49be-9e8f-f413b629dfd4"
      },
      "execution_count": null,
      "outputs": [
        {
          "output_type": "stream",
          "name": "stdout",
          "text": [
            "jim\n",
            "23\n"
          ]
        }
      ]
    },
    {
      "cell_type": "code",
      "source": [
        "# Modifying dictionary\n",
        "\n",
        "dictionary['name'] ='jannat'\n",
        "dictionary['occupation'] = \"Senior Software Engineer\"\n",
        "\n",
        "print(dictionary)"
      ],
      "metadata": {
        "colab": {
          "base_uri": "https://localhost:8080/"
        },
        "id": "VOYbsIh2SYlu",
        "outputId": "264d94dc-e583-491f-8120-509f13cce8f6"
      },
      "execution_count": null,
      "outputs": [
        {
          "output_type": "stream",
          "name": "stdout",
          "text": [
            "{'name': 'jannat', 'age': 23, 'city': 'Dhaka', 'occupation': 'Senior Software Engineer'}\n"
          ]
        }
      ]
    },
    {
      "cell_type": "code",
      "source": [
        "# Removing Item from dictionary\n",
        "dictionary = {'name' : \"jim\", 'age' : 23, 'city' : \"Dhaka\"}\n",
        "del dictionary['city'] #remove items from a dictionary using the del keyword.\n",
        "print(dictionary)"
      ],
      "metadata": {
        "id": "M4GRr4b1SxNn",
        "colab": {
          "base_uri": "https://localhost:8080/"
        },
        "outputId": "9b514331-6175-4a15-89bb-c8e38d2e8f34"
      },
      "execution_count": null,
      "outputs": [
        {
          "output_type": "stream",
          "name": "stdout",
          "text": [
            "{'name': 'jim', 'age': 23}\n"
          ]
        }
      ]
    },
    {
      "cell_type": "markdown",
      "source": [
        "##Dictionary Methods:"
      ],
      "metadata": {
        "id": "igPZbvA_TC3I"
      }
    },
    {
      "cell_type": "code",
      "source": [
        "keys = dictionary.keys()\n",
        "values = dictionary.values()\n",
        "items = dictionary.items()\n",
        "\n",
        "print(keys)\n",
        "print(values)\n",
        "print(items)"
      ],
      "metadata": {
        "colab": {
          "base_uri": "https://localhost:8080/"
        },
        "id": "0HWR94GmTDb0",
        "outputId": "407cee15-3b27-4499-dd06-1f8759373236"
      },
      "execution_count": null,
      "outputs": [
        {
          "output_type": "stream",
          "name": "stdout",
          "text": [
            "dict_keys(['name', 'age', 'city', 'occupation'])\n",
            "dict_values(['jannat', 23, 'Dhaka', 'Senior Software Engineer'])\n",
            "dict_items([('name', 'jannat'), ('age', 23), ('city', 'Dhaka'), ('occupation', 'Senior Software Engineer')])\n"
          ]
        }
      ]
    },
    {
      "cell_type": "markdown",
      "source": [
        "# Functions"
      ],
      "metadata": {
        "id": "kSFxXF5O4qcP"
      }
    },
    {
      "cell_type": "code",
      "source": [
        "# Syntax\n",
        "\n",
        "def function_name(parameters):\n",
        "    # Function Body\n",
        "    # Code to perform a specific task\n",
        "    return result # optional: return statement"
      ],
      "metadata": {
        "id": "ZzDPWI4n5Ohx"
      },
      "execution_count": null,
      "outputs": []
    },
    {
      "cell_type": "code",
      "source": [
        "def add_num(x, y):\n",
        "    total = x + y\n",
        "    return total\n",
        "\n",
        "result = add_num(5,3)\n",
        "print(result)"
      ],
      "metadata": {
        "id": "ZzXm5_KI5QOD"
      },
      "execution_count": null,
      "outputs": []
    },
    {
      "cell_type": "code",
      "source": [
        "def square(x):\n",
        "    return x**2\n",
        "result = square(3)\n",
        "print(result)"
      ],
      "metadata": {
        "id": "4ZqtnF3o5W-c",
        "colab": {
          "base_uri": "https://localhost:8080/"
        },
        "outputId": "e4ddc62c-2322-4491-9d6f-c9f6eb8594d5"
      },
      "execution_count": null,
      "outputs": [
        {
          "output_type": "stream",
          "name": "stdout",
          "text": [
            "9\n"
          ]
        }
      ]
    },
    {
      "cell_type": "code",
      "source": [
        "def f1(a,b):\n",
        "  return [a+b, a*b]\n",
        "\n",
        "result =(f1(6,7))\n",
        "print(result)\n",
        "print(type(result))"
      ],
      "metadata": {
        "id": "4zLg6tQp6D9z",
        "colab": {
          "base_uri": "https://localhost:8080/"
        },
        "outputId": "b0093747-7f93-43ee-a41b-6b088bac1d42"
      },
      "execution_count": null,
      "outputs": [
        {
          "output_type": "stream",
          "name": "stdout",
          "text": [
            "[13, 42]\n",
            "<class 'list'>\n"
          ]
        }
      ]
    },
    {
      "cell_type": "markdown",
      "source": [
        "##Variable Number of Arguments"
      ],
      "metadata": {
        "id": "i9xXhPyO5nuk"
      }
    },
    {
      "cell_type": "code",
      "source": [
        "def print_arguments(*args, **kwargs):\n",
        "    print(\"Positional arguments: \", args)\n",
        "    print(\"Keyword arguments: \", kwargs)\n",
        "\n",
        "print_arguments(1, 2, 3, name=\"jim\", age=23)"
      ],
      "metadata": {
        "colab": {
          "base_uri": "https://localhost:8080/"
        },
        "id": "tkNKyFX45rn_",
        "outputId": "e0ba0765-1f80-4b77-dcff-0130eea7da3b"
      },
      "execution_count": null,
      "outputs": [
        {
          "output_type": "stream",
          "name": "stdout",
          "text": [
            "Positional arguments:  (1, 2, 3)\n",
            "Keyword arguments:  {'name': 'jim', 'age': 23}\n"
          ]
        }
      ]
    },
    {
      "cell_type": "code",
      "source": [
        "def fn2(a,b,c,d):\n",
        "  print(a,b,c,d)\n",
        "#fn2(1,2,3) # positinal args\n",
        "fn2(3, d=1,b=1, c= 2, ) #keyword args\n"
      ],
      "metadata": {
        "colab": {
          "base_uri": "https://localhost:8080/"
        },
        "id": "EUS9VVUS6rra",
        "outputId": "4430b370-e282-4ad7-bf80-e9b94ef7ad72"
      },
      "execution_count": null,
      "outputs": [
        {
          "output_type": "stream",
          "name": "stdout",
          "text": [
            "3 1 2 1\n"
          ]
        }
      ]
    }
  ]
}